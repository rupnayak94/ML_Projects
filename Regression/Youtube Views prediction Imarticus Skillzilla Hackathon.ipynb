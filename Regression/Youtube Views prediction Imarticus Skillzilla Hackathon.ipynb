{
 "cells": [
  {
   "cell_type": "markdown",
   "metadata": {},
   "source": [
    "### Imarticus Skillzilla Hackathon\n",
    "\n",
    "### Predict number of Views in an Youtube video"
   ]
  },
  {
   "cell_type": "markdown",
   "metadata": {},
   "source": [
    "Aim: To predict number of views in an Youtube video based on its likes, dislikes, comment, and tags in the video."
   ]
  },
  {
   "cell_type": "markdown",
   "metadata": {},
   "source": [
    "We begin by importing our libraries\n",
    "\n",
    "1. We will be using Numpy for all calculation,\n",
    "2. Pandas for data-management\n",
    "3. OS for directory control\n",
    "4. Seaborn Matplotlib for visual representation of data\n",
    "5. Sklearns Random Forest, KNN, RidgeCV, LR for model building\n",
    "6. Sklearns GridSearchCV for hyperparameter tunning\n",
    "7. Stacking Regressor for Ensembled Model building."
   ]
  },
  {
   "cell_type": "code",
   "execution_count": 70,
   "metadata": {},
   "outputs": [],
   "source": [
    "import numpy as np\n",
    "import pandas as pd\n",
    "import os\n",
    "import seaborn as sns\n",
    "import matplotlib.pyplot as plt\n",
    "from sklearn.model_selection import train_test_split\n",
    "from sklearn.ensemble import RandomForestRegressor\n",
    "from sklearn.model_selection import GridSearchCV\n",
    "from sklearn.linear_model import LinearRegression\n",
    "from sklearn.linear_model import RidgeCV\n",
    "from sklearn.ensemble import StackingRegressor\n",
    "from sklearn.neighbors import KNeighborsRegressor\n",
    "from sklearn.ensemble import RandomForestRegressor"
   ]
  },
  {
   "cell_type": "code",
   "execution_count": 2,
   "metadata": {},
   "outputs": [],
   "source": [
    "os.chdir(\"D:/Docs/Education/Data Science/Python projects/Analytics Vidya and Kaggle/IM Views Pred\")"
   ]
  },
  {
   "cell_type": "markdown",
   "metadata": {},
   "source": [
    "### Reading the raw data input\n",
    "\n",
    "Our dataset came with a designated train and test sets.\n"
   ]
  },
  {
   "cell_type": "code",
   "execution_count": 3,
   "metadata": {},
   "outputs": [
    {
     "data": {
      "text/html": [
       "<div>\n",
       "<style scoped>\n",
       "    .dataframe tbody tr th:only-of-type {\n",
       "        vertical-align: middle;\n",
       "    }\n",
       "\n",
       "    .dataframe tbody tr th {\n",
       "        vertical-align: top;\n",
       "    }\n",
       "\n",
       "    .dataframe thead th {\n",
       "        text-align: right;\n",
       "    }\n",
       "</style>\n",
       "<table border=\"1\" class=\"dataframe\">\n",
       "  <thead>\n",
       "    <tr style=\"text-align: right;\">\n",
       "      <th></th>\n",
       "      <th>Video_id</th>\n",
       "      <th>publish_date</th>\n",
       "      <th>trending_date</th>\n",
       "      <th>category_id</th>\n",
       "      <th>channel_title</th>\n",
       "      <th>subscriber</th>\n",
       "      <th>title</th>\n",
       "      <th>tags</th>\n",
       "      <th>description</th>\n",
       "      <th>Trend_day_count</th>\n",
       "      <th>...</th>\n",
       "      <th>Trend_tag_count</th>\n",
       "      <th>comment_count</th>\n",
       "      <th>comment_disabled</th>\n",
       "      <th>like dislike disabled</th>\n",
       "      <th>likes</th>\n",
       "      <th>dislike</th>\n",
       "      <th>tag appered in title</th>\n",
       "      <th>views</th>\n",
       "      <th>Unnamed: 19</th>\n",
       "      <th>Unnamed: 20</th>\n",
       "    </tr>\n",
       "  </thead>\n",
       "  <tbody>\n",
       "    <tr>\n",
       "      <th>0</th>\n",
       "      <td>HDR9SQc79</td>\n",
       "      <td>2017-11-13</td>\n",
       "      <td>2017-11-20</td>\n",
       "      <td>22</td>\n",
       "      <td>CaseyNeistat</td>\n",
       "      <td>9086142.0</td>\n",
       "      <td>WE WANT TO TALK ABOUT OUR MARRIAGE</td>\n",
       "      <td>SHANtell martin</td>\n",
       "      <td>SHANTELL'S CHANNEL - https://www.youtube.com/s...</td>\n",
       "      <td>6.0</td>\n",
       "      <td>...</td>\n",
       "      <td>6</td>\n",
       "      <td></td>\n",
       "      <td>falSE</td>\n",
       "      <td>falSE</td>\n",
       "      <td>13342</td>\n",
       "      <td>6089</td>\n",
       "      <td>False</td>\n",
       "      <td>1978978</td>\n",
       "      <td>NaN</td>\n",
       "      <td>NaN</td>\n",
       "    </tr>\n",
       "    <tr>\n",
       "      <th>1</th>\n",
       "      <td>KNH52UF?48</td>\n",
       "      <td>2017-11-13</td>\n",
       "      <td>2017-11-20</td>\n",
       "      <td>24</td>\n",
       "      <td>LastWeekTonight</td>\n",
       "      <td>5937292.0</td>\n",
       "      <td>The Trump Presidency: Last Week Tonight with J...</td>\n",
       "      <td>last week tonight trump presidency|last week t...</td>\n",
       "      <td>One year after the presidential election, John...</td>\n",
       "      <td>1.0</td>\n",
       "      <td>...</td>\n",
       "      <td>1</td>\n",
       "      <td>116266</td>\n",
       "      <td>TrUe</td>\n",
       "      <td>FaLSE</td>\n",
       "      <td>5761</td>\n",
       "      <td>3044</td>\n",
       "      <td>False</td>\n",
       "      <td>1487870</td>\n",
       "      <td>NaN</td>\n",
       "      <td>NaN</td>\n",
       "    </tr>\n",
       "    <tr>\n",
       "      <th>2</th>\n",
       "      <td>QTW28IRG36</td>\n",
       "      <td>2017-11-12</td>\n",
       "      <td>2017-11-20</td>\n",
       "      <td>23</td>\n",
       "      <td>Rudy Mancuso</td>\n",
       "      <td>4191209.0</td>\n",
       "      <td>Racist Superman | Rudy Mancuso, King Bach &amp; Le...</td>\n",
       "      <td>racist superman|rudy|mancuso|king|bach|racist|...</td>\n",
       "      <td>WATCH MY PREVIOUS VIDEO ▶ \\n\\nSUBSCRIBE ► http...</td>\n",
       "      <td>10.0</td>\n",
       "      <td>...</td>\n",
       "      <td>3</td>\n",
       "      <td>257850</td>\n",
       "      <td>true</td>\n",
       "      <td>TRUE</td>\n",
       "      <td>0</td>\n",
       "      <td>0</td>\n",
       "      <td>True</td>\n",
       "      <td>1502102</td>\n",
       "      <td>NaN</td>\n",
       "      <td>NaN</td>\n",
       "    </tr>\n",
       "    <tr>\n",
       "      <th>3</th>\n",
       "      <td>MGL76WI]26</td>\n",
       "      <td>2017-11-13</td>\n",
       "      <td>2017-11-20</td>\n",
       "      <td>24</td>\n",
       "      <td>Good Mythical Morning</td>\n",
       "      <td>13186408.0</td>\n",
       "      <td>Nickelback Lyrics: Real or Fake?</td>\n",
       "      <td>rhett and link|gmm|good mythical morning|rhett...</td>\n",
       "      <td>Today we find out if Link is a Nickelback amat...</td>\n",
       "      <td>12.0</td>\n",
       "      <td>...</td>\n",
       "      <td>5</td>\n",
       "      <td>263939</td>\n",
       "      <td>true</td>\n",
       "      <td>True</td>\n",
       "      <td>0</td>\n",
       "      <td>0</td>\n",
       "      <td>True</td>\n",
       "      <td>3519302</td>\n",
       "      <td>NaN</td>\n",
       "      <td>NaN</td>\n",
       "    </tr>\n",
       "    <tr>\n",
       "      <th>4</th>\n",
       "      <td>TWP93KXT70</td>\n",
       "      <td>2017-11-12</td>\n",
       "      <td>2017-11-19</td>\n",
       "      <td>224</td>\n",
       "      <td>nigahiga</td>\n",
       "      <td>20563106.0</td>\n",
       "      <td>I Dare You: GOING BALD!?</td>\n",
       "      <td>ryan|higa|higatv|nigahiga|i dare you|idy|rhpc|...</td>\n",
       "      <td>I know it's been a while since we did this sho...</td>\n",
       "      <td>11.0</td>\n",
       "      <td>...</td>\n",
       "      <td>7</td>\n",
       "      <td>268085</td>\n",
       "      <td>True</td>\n",
       "      <td>TRUE</td>\n",
       "      <td>0</td>\n",
       "      <td>0</td>\n",
       "      <td>True</td>\n",
       "      <td>4835374</td>\n",
       "      <td>NaN</td>\n",
       "      <td>NaN</td>\n",
       "    </tr>\n",
       "    <tr>\n",
       "      <th>...</th>\n",
       "      <td>...</td>\n",
       "      <td>...</td>\n",
       "      <td>...</td>\n",
       "      <td>...</td>\n",
       "      <td>...</td>\n",
       "      <td>...</td>\n",
       "      <td>...</td>\n",
       "      <td>...</td>\n",
       "      <td>...</td>\n",
       "      <td>...</td>\n",
       "      <td>...</td>\n",
       "      <td>...</td>\n",
       "      <td>...</td>\n",
       "      <td>...</td>\n",
       "      <td>...</td>\n",
       "      <td>...</td>\n",
       "      <td>...</td>\n",
       "      <td>...</td>\n",
       "      <td>...</td>\n",
       "      <td>...</td>\n",
       "      <td>...</td>\n",
       "    </tr>\n",
       "    <tr>\n",
       "      <th>3193</th>\n",
       "      <td>OKR48DOE67</td>\n",
       "      <td>2018-01-27</td>\n",
       "      <td>2018-02-01</td>\n",
       "      <td>20</td>\n",
       "      <td>EA SPORTS FIFA</td>\n",
       "      <td>3150213.0</td>\n",
       "      <td>FIFA 18 - FUT Champions Cup Barcelona - Day 1</td>\n",
       "      <td>fifa|fifa ultimate team|fut|fifa pack opening|...</td>\n",
       "      <td>Day 1 of the FUT Champions Cup Barcelona featu...</td>\n",
       "      <td>7.0</td>\n",
       "      <td>...</td>\n",
       "      <td>5</td>\n",
       "      <td></td>\n",
       "      <td>FALSE</td>\n",
       "      <td>falSE</td>\n",
       "      <td>9734</td>\n",
       "      <td>5912</td>\n",
       "      <td>False</td>\n",
       "      <td>747960</td>\n",
       "      <td>NaN</td>\n",
       "      <td>NaN</td>\n",
       "    </tr>\n",
       "    <tr>\n",
       "      <th>3194</th>\n",
       "      <td>QJK69DS?91</td>\n",
       "      <td>2018-01-26</td>\n",
       "      <td>2018-02-01</td>\n",
       "      <td>10</td>\n",
       "      <td>JackWhiteVEVO</td>\n",
       "      <td>261596.0</td>\n",
       "      <td>Jack White - Corporation (Audio)</td>\n",
       "      <td>Alternative|Corporation|Jack White|Third Man R...</td>\n",
       "      <td>“Corporation” by Jack White from the forthcomi...</td>\n",
       "      <td>7.0</td>\n",
       "      <td>...</td>\n",
       "      <td>6</td>\n",
       "      <td></td>\n",
       "      <td>falSE</td>\n",
       "      <td>False</td>\n",
       "      <td>16006</td>\n",
       "      <td>12019</td>\n",
       "      <td>True</td>\n",
       "      <td>200410</td>\n",
       "      <td>NaN</td>\n",
       "      <td>NaN</td>\n",
       "    </tr>\n",
       "    <tr>\n",
       "      <th>3195</th>\n",
       "      <td>VHF51NVr11</td>\n",
       "      <td>2018-01-26</td>\n",
       "      <td>2018-02-01</td>\n",
       "      <td>10</td>\n",
       "      <td>JamesBlakeVEVO</td>\n",
       "      <td>28321.0</td>\n",
       "      <td>James Blake - If The Car Beside You Moves Ahea...</td>\n",
       "      <td>James|Blake|If|The|Car|Beside|You|Moves|Ahead|...</td>\n",
       "      <td>If the car beside you moves ahead \\nAs much as...</td>\n",
       "      <td>11.0</td>\n",
       "      <td>...</td>\n",
       "      <td>4</td>\n",
       "      <td></td>\n",
       "      <td>FALSE</td>\n",
       "      <td>True</td>\n",
       "      <td>0</td>\n",
       "      <td>0</td>\n",
       "      <td>True</td>\n",
       "      <td>244022</td>\n",
       "      <td>NaN</td>\n",
       "      <td>NaN</td>\n",
       "    </tr>\n",
       "    <tr>\n",
       "      <th>3196</th>\n",
       "      <td>XHU22OAJ39</td>\n",
       "      <td>2018-01-26</td>\n",
       "      <td>2018-01-28</td>\n",
       "      <td>26</td>\n",
       "      <td>Refinery29</td>\n",
       "      <td>890739.0</td>\n",
       "      <td>Lucie Fink Trains Like A Professional Gymnast ...</td>\n",
       "      <td>refinery29|refinery 29|r29|r29 video|refinery2...</td>\n",
       "      <td>On this episode of Lucie For Hire, our host Lu...</td>\n",
       "      <td>11.0</td>\n",
       "      <td>...</td>\n",
       "      <td>6</td>\n",
       "      <td>250750</td>\n",
       "      <td>TrUe</td>\n",
       "      <td>False</td>\n",
       "      <td>6859</td>\n",
       "      <td>1247</td>\n",
       "      <td>True</td>\n",
       "      <td>907340</td>\n",
       "      <td>NaN</td>\n",
       "      <td>NaN</td>\n",
       "    </tr>\n",
       "    <tr>\n",
       "      <th>3197</th>\n",
       "      <td>IFD79NSG47</td>\n",
       "      <td>2018-01-24</td>\n",
       "      <td>2018-01-31</td>\n",
       "      <td>22</td>\n",
       "      <td>MN khan</td>\n",
       "      <td>0.0</td>\n",
       "      <td>Man drops magnum of Champagne on the floor in ...</td>\n",
       "      <td>NaN</td>\n",
       "      <td>Man spills magnum of champagne ‘worth £30,000’...</td>\n",
       "      <td>12.0</td>\n",
       "      <td>...</td>\n",
       "      <td>4</td>\n",
       "      <td>32337</td>\n",
       "      <td>true</td>\n",
       "      <td>False</td>\n",
       "      <td>8339</td>\n",
       "      <td>5436</td>\n",
       "      <td>True</td>\n",
       "      <td>465531</td>\n",
       "      <td>NaN</td>\n",
       "      <td>NaN</td>\n",
       "    </tr>\n",
       "  </tbody>\n",
       "</table>\n",
       "<p>3198 rows × 21 columns</p>\n",
       "</div>"
      ],
      "text/plain": [
       "        Video_id publish_date trending_date category_id  \\\n",
       "0      HDR9SQc79   2017-11-13    2017-11-20          22   \n",
       "1     KNH52UF?48   2017-11-13    2017-11-20          24   \n",
       "2     QTW28IRG36   2017-11-12    2017-11-20          23   \n",
       "3     MGL76WI]26   2017-11-13    2017-11-20          24   \n",
       "4     TWP93KXT70   2017-11-12    2017-11-19         224   \n",
       "...          ...          ...           ...         ...   \n",
       "3193  OKR48DOE67   2018-01-27    2018-02-01          20   \n",
       "3194  QJK69DS?91   2018-01-26    2018-02-01          10   \n",
       "3195  VHF51NVr11   2018-01-26    2018-02-01          10   \n",
       "3196  XHU22OAJ39   2018-01-26    2018-01-28          26   \n",
       "3197  IFD79NSG47   2018-01-24    2018-01-31          22   \n",
       "\n",
       "              channel_title  subscriber  \\\n",
       "0              CaseyNeistat   9086142.0   \n",
       "1           LastWeekTonight   5937292.0   \n",
       "2              Rudy Mancuso   4191209.0   \n",
       "3     Good Mythical Morning  13186408.0   \n",
       "4                  nigahiga  20563106.0   \n",
       "...                     ...         ...   \n",
       "3193         EA SPORTS FIFA   3150213.0   \n",
       "3194          JackWhiteVEVO    261596.0   \n",
       "3195         JamesBlakeVEVO     28321.0   \n",
       "3196             Refinery29    890739.0   \n",
       "3197                MN khan         0.0   \n",
       "\n",
       "                                                  title  \\\n",
       "0                    WE WANT TO TALK ABOUT OUR MARRIAGE   \n",
       "1     The Trump Presidency: Last Week Tonight with J...   \n",
       "2     Racist Superman | Rudy Mancuso, King Bach & Le...   \n",
       "3                      Nickelback Lyrics: Real or Fake?   \n",
       "4                              I Dare You: GOING BALD!?   \n",
       "...                                                 ...   \n",
       "3193      FIFA 18 - FUT Champions Cup Barcelona - Day 1   \n",
       "3194                   Jack White - Corporation (Audio)   \n",
       "3195  James Blake - If The Car Beside You Moves Ahea...   \n",
       "3196  Lucie Fink Trains Like A Professional Gymnast ...   \n",
       "3197  Man drops magnum of Champagne on the floor in ...   \n",
       "\n",
       "                                                   tags  \\\n",
       "0                                       SHANtell martin   \n",
       "1     last week tonight trump presidency|last week t...   \n",
       "2     racist superman|rudy|mancuso|king|bach|racist|...   \n",
       "3     rhett and link|gmm|good mythical morning|rhett...   \n",
       "4     ryan|higa|higatv|nigahiga|i dare you|idy|rhpc|...   \n",
       "...                                                 ...   \n",
       "3193  fifa|fifa ultimate team|fut|fifa pack opening|...   \n",
       "3194  Alternative|Corporation|Jack White|Third Man R...   \n",
       "3195  James|Blake|If|The|Car|Beside|You|Moves|Ahead|...   \n",
       "3196  refinery29|refinery 29|r29|r29 video|refinery2...   \n",
       "3197                                                NaN   \n",
       "\n",
       "                                            description  Trend_day_count  ...  \\\n",
       "0     SHANTELL'S CHANNEL - https://www.youtube.com/s...              6.0  ...   \n",
       "1     One year after the presidential election, John...              1.0  ...   \n",
       "2     WATCH MY PREVIOUS VIDEO ▶ \\n\\nSUBSCRIBE ► http...             10.0  ...   \n",
       "3     Today we find out if Link is a Nickelback amat...             12.0  ...   \n",
       "4     I know it's been a while since we did this sho...             11.0  ...   \n",
       "...                                                 ...              ...  ...   \n",
       "3193  Day 1 of the FUT Champions Cup Barcelona featu...              7.0  ...   \n",
       "3194  “Corporation” by Jack White from the forthcomi...              7.0  ...   \n",
       "3195  If the car beside you moves ahead \\nAs much as...             11.0  ...   \n",
       "3196  On this episode of Lucie For Hire, our host Lu...             11.0  ...   \n",
       "3197  Man spills magnum of champagne ‘worth £30,000’...             12.0  ...   \n",
       "\n",
       "     Trend_tag_count comment_count comment_disabled like dislike disabled  \\\n",
       "0                  6                          falSE                 falSE   \n",
       "1                  1        116266             TrUe                 FaLSE   \n",
       "2                  3        257850             true                  TRUE   \n",
       "3                  5        263939             true                  True   \n",
       "4                  7        268085             True                  TRUE   \n",
       "...              ...           ...              ...                   ...   \n",
       "3193               5                          FALSE                 falSE   \n",
       "3194               6                          falSE                 False   \n",
       "3195               4                          FALSE                  True   \n",
       "3196               6        250750             TrUe                 False   \n",
       "3197               4         32337             true                 False   \n",
       "\n",
       "      likes dislike tag appered in title    views Unnamed: 19  Unnamed: 20  \n",
       "0     13342    6089                False  1978978         NaN          NaN  \n",
       "1      5761    3044                False  1487870         NaN          NaN  \n",
       "2         0       0                 True  1502102         NaN          NaN  \n",
       "3         0       0                 True  3519302         NaN          NaN  \n",
       "4         0       0                 True  4835374         NaN          NaN  \n",
       "...     ...     ...                  ...      ...         ...          ...  \n",
       "3193   9734    5912                False   747960         NaN          NaN  \n",
       "3194  16006   12019                 True   200410         NaN          NaN  \n",
       "3195      0       0                 True   244022         NaN          NaN  \n",
       "3196   6859    1247                 True   907340         NaN          NaN  \n",
       "3197   8339    5436                 True   465531         NaN          NaN  \n",
       "\n",
       "[3198 rows x 21 columns]"
      ]
     },
     "execution_count": 3,
     "metadata": {},
     "output_type": "execute_result"
    }
   ],
   "source": [
    "imptrain=pd.read_csv(\"train.csv\")\n",
    "imptest=pd.read_csv(\"test.csv\")\n",
    "imptrain"
   ]
  },
  {
   "cell_type": "markdown",
   "metadata": {},
   "source": [
    "We will drop the 'Id\" column along with \"description\" and other non-significant variables"
   ]
  },
  {
   "cell_type": "code",
   "execution_count": 4,
   "metadata": {},
   "outputs": [],
   "source": [
    "imptrain.drop([\"Video_id\", \"Unnamed: 19\", \"Unnamed: 20\", \"description\"], inplace=True, axis=1)"
   ]
  },
  {
   "cell_type": "markdown",
   "metadata": {},
   "source": [
    "We will drop similar columns from test also and add \"views\" to maintain the shape of both train and test. This is done so that pre-processing can be applied to both the train and test easily."
   ]
  },
  {
   "cell_type": "code",
   "execution_count": 5,
   "metadata": {},
   "outputs": [
    {
     "name": "stdout",
     "output_type": "stream",
     "text": [
      "(4533, 18)\n"
     ]
    }
   ],
   "source": [
    "imptrain[\"Source\"]=\"Train\"\n",
    "imptest[\"Source\"]=\"Test\"\n",
    "viewId=imptest[\"Video_id\"]   #keeping a copy of ViewIDs\n",
    "imptest.drop([\"Video_id\",\"description\"], axis=1, inplace=True)\n",
    "imptest[\"views\"]=0 #creating a \"Views\" column to match the same\n",
    "fullraw=pd.concat([imptrain, imptest], axis=0)  #combining both train and test\n",
    "print(fullraw.shape)"
   ]
  },
  {
   "cell_type": "code",
   "execution_count": 6,
   "metadata": {},
   "outputs": [
    {
     "data": {
      "text/html": [
       "<div>\n",
       "<style scoped>\n",
       "    .dataframe tbody tr th:only-of-type {\n",
       "        vertical-align: middle;\n",
       "    }\n",
       "\n",
       "    .dataframe tbody tr th {\n",
       "        vertical-align: top;\n",
       "    }\n",
       "\n",
       "    .dataframe thead th {\n",
       "        text-align: right;\n",
       "    }\n",
       "</style>\n",
       "<table border=\"1\" class=\"dataframe\">\n",
       "  <thead>\n",
       "    <tr style=\"text-align: right;\">\n",
       "      <th></th>\n",
       "      <th>publish_date</th>\n",
       "      <th>trending_date</th>\n",
       "      <th>category_id</th>\n",
       "      <th>channel_title</th>\n",
       "      <th>subscriber</th>\n",
       "      <th>title</th>\n",
       "      <th>tags</th>\n",
       "      <th>Trend_day_count</th>\n",
       "      <th>Tag_count</th>\n",
       "      <th>Trend_tag_count</th>\n",
       "      <th>comment_count</th>\n",
       "      <th>comment_disabled</th>\n",
       "      <th>like dislike disabled</th>\n",
       "      <th>likes</th>\n",
       "      <th>dislike</th>\n",
       "      <th>tag appered in title</th>\n",
       "      <th>views</th>\n",
       "      <th>Source</th>\n",
       "    </tr>\n",
       "  </thead>\n",
       "  <tbody>\n",
       "    <tr>\n",
       "      <th>0</th>\n",
       "      <td>2017-11-13</td>\n",
       "      <td>2017-11-20</td>\n",
       "      <td>22</td>\n",
       "      <td>CaseyNeistat</td>\n",
       "      <td>9086142.0</td>\n",
       "      <td>WE WANT TO TALK ABOUT OUR MARRIAGE</td>\n",
       "      <td>SHANtell martin</td>\n",
       "      <td>6.0</td>\n",
       "      <td>21</td>\n",
       "      <td>6</td>\n",
       "      <td></td>\n",
       "      <td>falSE</td>\n",
       "      <td>falSE</td>\n",
       "      <td>13342</td>\n",
       "      <td>6089</td>\n",
       "      <td>False</td>\n",
       "      <td>1978978</td>\n",
       "      <td>Train</td>\n",
       "    </tr>\n",
       "    <tr>\n",
       "      <th>1</th>\n",
       "      <td>2017-11-13</td>\n",
       "      <td>2017-11-20</td>\n",
       "      <td>24</td>\n",
       "      <td>LastWeekTonight</td>\n",
       "      <td>5937292.0</td>\n",
       "      <td>The Trump Presidency: Last Week Tonight with J...</td>\n",
       "      <td>last week tonight trump presidency|last week t...</td>\n",
       "      <td>1.0</td>\n",
       "      <td>23</td>\n",
       "      <td>1</td>\n",
       "      <td>116266</td>\n",
       "      <td>TrUe</td>\n",
       "      <td>FaLSE</td>\n",
       "      <td>5761</td>\n",
       "      <td>3044</td>\n",
       "      <td>False</td>\n",
       "      <td>1487870</td>\n",
       "      <td>Train</td>\n",
       "    </tr>\n",
       "    <tr>\n",
       "      <th>2</th>\n",
       "      <td>2017-11-12</td>\n",
       "      <td>2017-11-20</td>\n",
       "      <td>23</td>\n",
       "      <td>Rudy Mancuso</td>\n",
       "      <td>4191209.0</td>\n",
       "      <td>Racist Superman | Rudy Mancuso, King Bach &amp; Le...</td>\n",
       "      <td>racist superman|rudy|mancuso|king|bach|racist|...</td>\n",
       "      <td>10.0</td>\n",
       "      <td>22</td>\n",
       "      <td>3</td>\n",
       "      <td>257850</td>\n",
       "      <td>true</td>\n",
       "      <td>TRUE</td>\n",
       "      <td>0</td>\n",
       "      <td>0</td>\n",
       "      <td>True</td>\n",
       "      <td>1502102</td>\n",
       "      <td>Train</td>\n",
       "    </tr>\n",
       "    <tr>\n",
       "      <th>3</th>\n",
       "      <td>2017-11-13</td>\n",
       "      <td>2017-11-20</td>\n",
       "      <td>24</td>\n",
       "      <td>Good Mythical Morning</td>\n",
       "      <td>13186408.0</td>\n",
       "      <td>Nickelback Lyrics: Real or Fake?</td>\n",
       "      <td>rhett and link|gmm|good mythical morning|rhett...</td>\n",
       "      <td>12.0</td>\n",
       "      <td>17</td>\n",
       "      <td>5</td>\n",
       "      <td>263939</td>\n",
       "      <td>true</td>\n",
       "      <td>True</td>\n",
       "      <td>0</td>\n",
       "      <td>0</td>\n",
       "      <td>True</td>\n",
       "      <td>3519302</td>\n",
       "      <td>Train</td>\n",
       "    </tr>\n",
       "    <tr>\n",
       "      <th>4</th>\n",
       "      <td>2017-11-12</td>\n",
       "      <td>2017-11-19</td>\n",
       "      <td>224</td>\n",
       "      <td>nigahiga</td>\n",
       "      <td>20563106.0</td>\n",
       "      <td>I Dare You: GOING BALD!?</td>\n",
       "      <td>ryan|higa|higatv|nigahiga|i dare you|idy|rhpc|...</td>\n",
       "      <td>11.0</td>\n",
       "      <td>15</td>\n",
       "      <td>7</td>\n",
       "      <td>268085</td>\n",
       "      <td>True</td>\n",
       "      <td>TRUE</td>\n",
       "      <td>0</td>\n",
       "      <td>0</td>\n",
       "      <td>True</td>\n",
       "      <td>4835374</td>\n",
       "      <td>Train</td>\n",
       "    </tr>\n",
       "    <tr>\n",
       "      <th>...</th>\n",
       "      <td>...</td>\n",
       "      <td>...</td>\n",
       "      <td>...</td>\n",
       "      <td>...</td>\n",
       "      <td>...</td>\n",
       "      <td>...</td>\n",
       "      <td>...</td>\n",
       "      <td>...</td>\n",
       "      <td>...</td>\n",
       "      <td>...</td>\n",
       "      <td>...</td>\n",
       "      <td>...</td>\n",
       "      <td>...</td>\n",
       "      <td>...</td>\n",
       "      <td>...</td>\n",
       "      <td>...</td>\n",
       "      <td>...</td>\n",
       "      <td>...</td>\n",
       "    </tr>\n",
       "    <tr>\n",
       "      <th>1330</th>\n",
       "      <td>2018-03-04</td>\n",
       "      <td>2018-03-05</td>\n",
       "      <td>27</td>\n",
       "      <td>The King of Random</td>\n",
       "      <td>9133669.0</td>\n",
       "      <td>Watch what Whipped Cream Does in a Vacuum Chamber</td>\n",
       "      <td>whipped cream|meringue|vacuum chamber|whipped|...</td>\n",
       "      <td>9.0</td>\n",
       "      <td>10</td>\n",
       "      <td>1</td>\n",
       "      <td></td>\n",
       "      <td>False</td>\n",
       "      <td>False</td>\n",
       "      <td>18016</td>\n",
       "      <td>13995</td>\n",
       "      <td>True</td>\n",
       "      <td>0</td>\n",
       "      <td>Test</td>\n",
       "    </tr>\n",
       "    <tr>\n",
       "      <th>1331</th>\n",
       "      <td>2018-03-04</td>\n",
       "      <td>2018-03-05</td>\n",
       "      <td>24</td>\n",
       "      <td>Saturday Night Live</td>\n",
       "      <td>5292034.0</td>\n",
       "      <td>Cut for Time: Star Warriors - SNL</td>\n",
       "      <td>SNL|Saturday Night Live|SNL Season 43|Episode ...</td>\n",
       "      <td>3.0</td>\n",
       "      <td>8</td>\n",
       "      <td>1</td>\n",
       "      <td>94868</td>\n",
       "      <td>True</td>\n",
       "      <td>True</td>\n",
       "      <td>0</td>\n",
       "      <td>0</td>\n",
       "      <td>True</td>\n",
       "      <td>0</td>\n",
       "      <td>Test</td>\n",
       "    </tr>\n",
       "    <tr>\n",
       "      <th>1332</th>\n",
       "      <td>2018-03-04</td>\n",
       "      <td>2018-03-05</td>\n",
       "      <td>24</td>\n",
       "      <td>HellthyJunkFood</td>\n",
       "      <td>1568812.0</td>\n",
       "      <td>DIY TACO PIZZA 🌮🍕</td>\n",
       "      <td>taco pizza|diy taco pizza|taco pizza recipe|ta...</td>\n",
       "      <td>5.0</td>\n",
       "      <td>22</td>\n",
       "      <td>1</td>\n",
       "      <td>241644</td>\n",
       "      <td>True</td>\n",
       "      <td>False</td>\n",
       "      <td>7795</td>\n",
       "      <td>6940</td>\n",
       "      <td>True</td>\n",
       "      <td>0</td>\n",
       "      <td>Test</td>\n",
       "    </tr>\n",
       "    <tr>\n",
       "      <th>1333</th>\n",
       "      <td>2018-03-04</td>\n",
       "      <td>2018-03-05</td>\n",
       "      <td>27</td>\n",
       "      <td>The Infographics Show</td>\n",
       "      <td>1607518.0</td>\n",
       "      <td>What Is Stone Man Syndrome?</td>\n",
       "      <td>stone man|stone man syndrome|fop|fibrodysplasi...</td>\n",
       "      <td>7.0</td>\n",
       "      <td>15</td>\n",
       "      <td>2</td>\n",
       "      <td></td>\n",
       "      <td>False</td>\n",
       "      <td>False</td>\n",
       "      <td>11795</td>\n",
       "      <td>10139</td>\n",
       "      <td>True</td>\n",
       "      <td>0</td>\n",
       "      <td>Test</td>\n",
       "    </tr>\n",
       "    <tr>\n",
       "      <th>1334</th>\n",
       "      <td>2018-03-04</td>\n",
       "      <td>2018-03-05</td>\n",
       "      <td>117</td>\n",
       "      <td>UFC - Ultimate Fighting Championship</td>\n",
       "      <td>4381391.0</td>\n",
       "      <td>UFC 222: Brian Ortega Octagon Interview</td>\n",
       "      <td>ufc|222|brian|ortega|octagon|interview|joe|rog...</td>\n",
       "      <td>1.0</td>\n",
       "      <td>18</td>\n",
       "      <td>6</td>\n",
       "      <td>196618</td>\n",
       "      <td>True</td>\n",
       "      <td>False</td>\n",
       "      <td>12360</td>\n",
       "      <td>7695</td>\n",
       "      <td>True</td>\n",
       "      <td>0</td>\n",
       "      <td>Test</td>\n",
       "    </tr>\n",
       "  </tbody>\n",
       "</table>\n",
       "<p>4533 rows × 18 columns</p>\n",
       "</div>"
      ],
      "text/plain": [
       "     publish_date trending_date category_id  \\\n",
       "0      2017-11-13    2017-11-20          22   \n",
       "1      2017-11-13    2017-11-20          24   \n",
       "2      2017-11-12    2017-11-20          23   \n",
       "3      2017-11-13    2017-11-20          24   \n",
       "4      2017-11-12    2017-11-19         224   \n",
       "...           ...           ...         ...   \n",
       "1330   2018-03-04    2018-03-05          27   \n",
       "1331   2018-03-04    2018-03-05          24   \n",
       "1332   2018-03-04    2018-03-05          24   \n",
       "1333   2018-03-04    2018-03-05          27   \n",
       "1334   2018-03-04    2018-03-05         117   \n",
       "\n",
       "                             channel_title  subscriber  \\\n",
       "0                             CaseyNeistat   9086142.0   \n",
       "1                          LastWeekTonight   5937292.0   \n",
       "2                             Rudy Mancuso   4191209.0   \n",
       "3                    Good Mythical Morning  13186408.0   \n",
       "4                                 nigahiga  20563106.0   \n",
       "...                                    ...         ...   \n",
       "1330                    The King of Random   9133669.0   \n",
       "1331                   Saturday Night Live   5292034.0   \n",
       "1332                       HellthyJunkFood   1568812.0   \n",
       "1333                 The Infographics Show   1607518.0   \n",
       "1334  UFC - Ultimate Fighting Championship   4381391.0   \n",
       "\n",
       "                                                  title  \\\n",
       "0                    WE WANT TO TALK ABOUT OUR MARRIAGE   \n",
       "1     The Trump Presidency: Last Week Tonight with J...   \n",
       "2     Racist Superman | Rudy Mancuso, King Bach & Le...   \n",
       "3                      Nickelback Lyrics: Real or Fake?   \n",
       "4                              I Dare You: GOING BALD!?   \n",
       "...                                                 ...   \n",
       "1330  Watch what Whipped Cream Does in a Vacuum Chamber   \n",
       "1331                  Cut for Time: Star Warriors - SNL   \n",
       "1332                                  DIY TACO PIZZA 🌮🍕   \n",
       "1333                        What Is Stone Man Syndrome?   \n",
       "1334            UFC 222: Brian Ortega Octagon Interview   \n",
       "\n",
       "                                                   tags  Trend_day_count  \\\n",
       "0                                       SHANtell martin              6.0   \n",
       "1     last week tonight trump presidency|last week t...              1.0   \n",
       "2     racist superman|rudy|mancuso|king|bach|racist|...             10.0   \n",
       "3     rhett and link|gmm|good mythical morning|rhett...             12.0   \n",
       "4     ryan|higa|higatv|nigahiga|i dare you|idy|rhpc|...             11.0   \n",
       "...                                                 ...              ...   \n",
       "1330  whipped cream|meringue|vacuum chamber|whipped|...              9.0   \n",
       "1331  SNL|Saturday Night Live|SNL Season 43|Episode ...              3.0   \n",
       "1332  taco pizza|diy taco pizza|taco pizza recipe|ta...              5.0   \n",
       "1333  stone man|stone man syndrome|fop|fibrodysplasi...              7.0   \n",
       "1334  ufc|222|brian|ortega|octagon|interview|joe|rog...              1.0   \n",
       "\n",
       "     Tag_count Trend_tag_count comment_count comment_disabled  \\\n",
       "0           21               6                          falSE   \n",
       "1           23               1        116266             TrUe   \n",
       "2           22               3        257850             true   \n",
       "3           17               5        263939             true   \n",
       "4           15               7        268085             True   \n",
       "...        ...             ...           ...              ...   \n",
       "1330        10               1                          False   \n",
       "1331         8               1         94868             True   \n",
       "1332        22               1        241644             True   \n",
       "1333        15               2                          False   \n",
       "1334        18               6        196618             True   \n",
       "\n",
       "     like dislike disabled  likes dislike tag appered in title    views Source  \n",
       "0                    falSE  13342    6089                False  1978978  Train  \n",
       "1                    FaLSE   5761    3044                False  1487870  Train  \n",
       "2                     TRUE      0       0                 True  1502102  Train  \n",
       "3                     True      0       0                 True  3519302  Train  \n",
       "4                     TRUE      0       0                 True  4835374  Train  \n",
       "...                    ...    ...     ...                  ...      ...    ...  \n",
       "1330                 False  18016   13995                 True        0   Test  \n",
       "1331                  True      0       0                 True        0   Test  \n",
       "1332                 False   7795    6940                 True        0   Test  \n",
       "1333                 False  11795   10139                 True        0   Test  \n",
       "1334                 False  12360    7695                 True        0   Test  \n",
       "\n",
       "[4533 rows x 18 columns]"
      ]
     },
     "execution_count": 6,
     "metadata": {},
     "output_type": "execute_result"
    }
   ],
   "source": [
    "fullraw #contains both train and test"
   ]
  },
  {
   "cell_type": "markdown",
   "metadata": {},
   "source": [
    " ### Missing value imputation and Data type corrections"
   ]
  },
  {
   "cell_type": "code",
   "execution_count": 7,
   "metadata": {},
   "outputs": [
    {
     "data": {
      "text/plain": [
       "publish_date              object\n",
       "trending_date             object\n",
       "category_id               object\n",
       "channel_title             object\n",
       "subscriber               float64\n",
       "title                     object\n",
       "tags                      object\n",
       "Trend_day_count          float64\n",
       "Tag_count                 object\n",
       "Trend_tag_count           object\n",
       "comment_count             object\n",
       "comment_disabled          object\n",
       "like dislike disabled     object\n",
       "likes                     object\n",
       "dislike                   object\n",
       "tag appered in title      object\n",
       "views                     object\n",
       "Source                    object\n",
       "dtype: object"
      ]
     },
     "execution_count": 7,
     "metadata": {},
     "output_type": "execute_result"
    }
   ],
   "source": [
    "fullraw.dtypes"
   ]
  },
  {
   "cell_type": "markdown",
   "metadata": {},
   "source": [
    "We notice that number of likes, dislikes, views etc should be numeric, yet they were encoded as \"objects\" variables which needs to be corrected.\n",
    "One method is, to convert them to \"numeric\" or sue \"One-hot encode\". Approching via the Onehot encode method is not feasible due to resource management issues and to maintain code quality"
   ]
  },
  {
   "cell_type": "code",
   "execution_count": 8,
   "metadata": {},
   "outputs": [],
   "source": [
    "fullraw.replace(' ', np.nan, inplace=True)\n",
    "fullraw[\"likes\"] = pd.to_numeric(fullraw[\"likes\"], errors='coerce')\n",
    "fullraw[\"views\"] = pd.to_numeric(fullraw[\"views\"], errors='coerce')\n",
    "fullraw[\"dislike\"] = pd.to_numeric(fullraw[\"dislike\"], errors='coerce')\n",
    "fullraw[\"Tag_count\"] = pd.to_numeric(fullraw[\"Tag_count\"], errors='coerce')\n",
    "fullraw[\"comment_count\"] = pd.to_numeric(fullraw[\"comment_count\"], errors='coerce')\n",
    "fullraw[\"Tag_count\"] = pd.to_numeric(fullraw[\"Tag_count\"], errors='coerce')\n",
    "fullraw[\"Trend_day_count\"] = pd.to_numeric(fullraw[\"Trend_day_count\"], errors='coerce')\n",
    "fullraw[\"Trend_tag_count\"] = pd.to_numeric(fullraw[\"Trend_tag_count\"], errors='coerce')\n",
    "fullraw[\"category_id\"] = pd.to_numeric(fullraw[\"category_id\"], errors='coerce')"
   ]
  },
  {
   "cell_type": "code",
   "execution_count": 9,
   "metadata": {
    "scrolled": true
   },
   "outputs": [
    {
     "data": {
      "text/plain": [
       "publish_date              object\n",
       "trending_date             object\n",
       "category_id              float64\n",
       "channel_title             object\n",
       "subscriber               float64\n",
       "title                     object\n",
       "tags                      object\n",
       "Trend_day_count          float64\n",
       "Tag_count                float64\n",
       "Trend_tag_count          float64\n",
       "comment_count            float64\n",
       "comment_disabled          object\n",
       "like dislike disabled     object\n",
       "likes                    float64\n",
       "dislike                  float64\n",
       "tag appered in title      object\n",
       "views                    float64\n",
       "Source                    object\n",
       "dtype: object"
      ]
     },
     "execution_count": 9,
     "metadata": {},
     "output_type": "execute_result"
    }
   ],
   "source": [
    "fullraw.dtypes"
   ]
  },
  {
   "cell_type": "code",
   "execution_count": 10,
   "metadata": {},
   "outputs": [
    {
     "data": {
      "text/plain": [
       "0                                         SHANtell martin\n",
       "1       last week tonight trump presidency|last week t...\n",
       "2       racist superman|rudy|mancuso|king|bach|racist|...\n",
       "3       rhett and link|gmm|good mythical morning|rhett...\n",
       "4       ryan|higa|higatv|nigahiga|i dare you|idy|rhpc|...\n",
       "                              ...                        \n",
       "1330    whipped cream|meringue|vacuum chamber|whipped|...\n",
       "1331    SNL|Saturday Night Live|SNL Season 43|Episode ...\n",
       "1332    taco pizza|diy taco pizza|taco pizza recipe|ta...\n",
       "1333    stone man|stone man syndrome|fop|fibrodysplasi...\n",
       "1334    ufc|222|brian|ortega|octagon|interview|joe|rog...\n",
       "Name: tags, Length: 4533, dtype: object"
      ]
     },
     "execution_count": 10,
     "metadata": {},
     "output_type": "execute_result"
    }
   ],
   "source": [
    "fullraw[\"tags\"]"
   ]
  },
  {
   "cell_type": "markdown",
   "metadata": {},
   "source": [
    "**Tags** have lots of string characters which are uncorrelated. \n",
    "Tags are separated by **\"|\"** \n",
    "We will be extracting the **First** or the **Primary tag** of the videos. \n",
    "\n",
    "This single important tag concept will help in distinguishing each and every video from another and will also not cause memory overload issues."
   ]
  },
  {
   "cell_type": "code",
   "execution_count": 11,
   "metadata": {},
   "outputs": [
    {
     "data": {
      "text/plain": [
       "0              NaN\n",
       "1       presidency\n",
       "2         superman\n",
       "3             link\n",
       "4             ryan\n",
       "           ...    \n",
       "1330         cream\n",
       "1331           SNL\n",
       "1332         pizza\n",
       "1333           man\n",
       "1334           ufc\n",
       "Name: tags2, Length: 4533, dtype: object"
      ]
     },
     "execution_count": 11,
     "metadata": {},
     "output_type": "execute_result"
    }
   ],
   "source": [
    "fullraw[\"tags2\"]=fullraw.tags.str.extract(pat='([A-Za-z]+)\\|', expand=False) \n",
    "fullraw[\"tags2\"]"
   ]
  },
  {
   "cell_type": "code",
   "execution_count": 12,
   "metadata": {},
   "outputs": [],
   "source": [
    "fullraw.drop([\"tags\", \"title\", \"channel_title\"], axis=1, inplace=True)"
   ]
  },
  {
   "cell_type": "markdown",
   "metadata": {},
   "source": [
    "### Let us remove the Null values from the dataset.\n",
    "\n",
    "Imputing criteria:-\n",
    "\n",
    "Categorical: First Mode\n",
    "Continuous: Median"
   ]
  },
  {
   "cell_type": "code",
   "execution_count": 13,
   "metadata": {},
   "outputs": [
    {
     "data": {
      "text/plain": [
       "publish_date                2\n",
       "trending_date               2\n",
       "category_id                 8\n",
       "subscriber                 31\n",
       "Trend_day_count             1\n",
       "Tag_count                   2\n",
       "Trend_tag_count             3\n",
       "comment_count            1448\n",
       "comment_disabled            0\n",
       "like dislike disabled       0\n",
       "likes                       1\n",
       "dislike                     1\n",
       "tag appered in title        1\n",
       "views                       1\n",
       "Source                      0\n",
       "tags2                     280\n",
       "dtype: int64"
      ]
     },
     "execution_count": 13,
     "metadata": {},
     "output_type": "execute_result"
    }
   ],
   "source": [
    "#checking NAs\n",
    "fullraw.isnull().sum()"
   ]
  },
  {
   "cell_type": "code",
   "execution_count": 14,
   "metadata": {},
   "outputs": [
    {
     "name": "stdout",
     "output_type": "stream",
     "text": [
      "publish_date  :is a category variable, imputing with mode, mode value:  2017-12-13  and totalNA:  2 \n",
      "\n",
      "trending_date  :is a category variable, imputing with mode, mode value:  2018-01-09  and totalNA:  2 \n",
      "\n",
      "category_id  :is a numerical variable, imputing with median, median value:  24.0  and totalNA:  7 \n",
      "\n",
      "subscriber  :is a numerical variable, imputing with median, median value:  1241220.0  and totalNA:  23 \n",
      "\n",
      "Trend_day_count  :is a numerical variable, imputing with median, median value:  7.0  and totalNA:  1 \n",
      "\n",
      "Tag_count  :is a numerical variable, imputing with median, median value:  17.0  and totalNA:  2 \n",
      "\n",
      "Trend_tag_count  :is a numerical variable, imputing with median, median value:  4.0  and totalNA:  3 \n",
      "\n",
      "comment_count  :is a numerical variable, imputing with median, median value:  163785.0  and totalNA:  1015 \n",
      "\n",
      "comment_disabled  :is a category variable, imputing with mode, mode value:  TrUe  and totalNA:  0 \n",
      "\n",
      "like dislike disabled  :is a category variable, imputing with mode, mode value:  False  and totalNA:  0 \n",
      "\n",
      "likes  :is a numerical variable, imputing with median, median value:  10227.0  and totalNA:  1 \n",
      "\n",
      "dislike  :is a numerical variable, imputing with median, median value:  5354.0  and totalNA:  1 \n",
      "\n",
      "tag appered in title  :is a category variable, imputing with mode, mode value:  True  and totalNA:  1 \n",
      "\n",
      "views  :is a numerical variable, imputing with median, median value:  708177.0  and totalNA:  1 \n",
      "\n",
      "Source  :is a category variable, imputing with mode, mode value:  Train  and totalNA:  0 \n",
      "\n",
      "tags2  :is a category variable, imputing with mode, mode value:  Show  and totalNA:  201 \n",
      "\n",
      "Total null values 0\n"
     ]
    }
   ],
   "source": [
    "#imputing missing values\n",
    "onlytrain=fullraw['Source']==\"Train\"\n",
    "halfrows=0.5*fullraw[onlytrain].shape[0]\n",
    "\n",
    "for i in fullraw.columns:\n",
    "    totalNA=fullraw.loc[onlytrain,i].isnull().sum()\n",
    "    if(totalNA<halfrows):\n",
    "        if(fullraw[i].dtype==\"object\"):\n",
    "            tempmode=fullraw.loc[onlytrain,i].mode()[0]\n",
    "            fullraw[i].fillna(tempmode, inplace=True)\n",
    "            print(i,\" :is a category variable, imputing with mode, mode value: \", tempmode,\" and totalNA: \",totalNA, \"\\n\")\n",
    "        else:\n",
    "            tempmedian=fullraw.loc[onlytrain,i].median()\n",
    "            fullraw[i].fillna(tempmedian, inplace=True)\n",
    "            print(i,\" :is a numerical variable, imputing with median, median value: \", tempmedian,\" and totalNA: \",totalNA, \"\\n\")\n",
    "    else:\n",
    "        fullraw.drop([i], axis=1, inplace=True)\n",
    "print(\"Total null values\", sum(fullraw.isnull().sum()))"
   ]
  },
  {
   "cell_type": "markdown",
   "metadata": {},
   "source": [
    "### Converting Date variable to datetime[ns] from object"
   ]
  },
  {
   "cell_type": "code",
   "execution_count": 15,
   "metadata": {},
   "outputs": [],
   "source": [
    "fullraw[\"publish_date\"]=pd.to_numeric(pd.to_datetime(fullraw[\"publish_date\"]))\n",
    "fullraw[\"trending_date\"]=pd.to_numeric(pd.to_datetime(fullraw[\"trending_date\"]))"
   ]
  },
  {
   "cell_type": "markdown",
   "metadata": {},
   "source": [
    "### Boolean correction"
   ]
  },
  {
   "cell_type": "code",
   "execution_count": 16,
   "metadata": {},
   "outputs": [
    {
     "data": {
      "text/plain": [
       "False    1020\n",
       "False     818\n",
       "FaLSE     784\n",
       "falSE     752\n",
       "True      315\n",
       "TrUe      292\n",
       "True      288\n",
       "TRUE      263\n",
       "4           1\n",
       "Name: like dislike disabled, dtype: int64"
      ]
     },
     "execution_count": 16,
     "metadata": {},
     "output_type": "execute_result"
    }
   ],
   "source": [
    "fullraw[\"like dislike disabled\"].value_counts()"
   ]
  },
  {
   "cell_type": "markdown",
   "metadata": {},
   "source": [
    "\"True\", \"TrUe\", \"TRUE\", \"False, \"FaLSE\" are actually represetation of two binary variables \"True\" or \"False\". These are encoded into wrong format and thus we need to reconde it to correct it."
   ]
  },
  {
   "cell_type": "code",
   "execution_count": 17,
   "metadata": {},
   "outputs": [],
   "source": [
    "choicebol=[(fullraw[\"like dislike disabled\"]==True)|(fullraw[\"like dislike disabled\"]==\"TrUe\")|(fullraw[\"like dislike disabled\"]==\"True\")|(fullraw[\"like dislike disabled\"]==\"TRUE\")|(fullraw[\"like dislike disabled\"]==4), (fullraw[\"like dislike disabled\"]==False)|(fullraw[\"like dislike disabled\"]==\"False\")|(fullraw[\"like dislike disabled\"]==\"FaLSE\")|(fullraw[\"like dislike disabled\"]==\"falSE\")]\n",
    "condlist=[1, 0]\n",
    "fullraw[\"like dislike disabled\"]=np.select(choicebol, condlist)"
   ]
  },
  {
   "cell_type": "code",
   "execution_count": 18,
   "metadata": {},
   "outputs": [
    {
     "name": "stdout",
     "output_type": "stream",
     "text": [
      "True     902\n",
      "TrUe     755\n",
      "true     750\n",
      "True     677\n",
      "False    433\n",
      "falSE    342\n",
      "false    339\n",
      "FALSE    334\n",
      "25         1\n",
      "Name: comment_disabled, dtype: int64\n"
     ]
    }
   ],
   "source": [
    "print(fullraw[\"comment_disabled\"].value_counts())\n",
    "choicebol=[fullraw[\"tag appered in title\"]==True, fullraw[\"tag appered in title\"]==False]\n",
    "condlist=[1, 0]\n",
    "fullraw[\"tag appered in title\"]=np.select(choicebol, condlist)"
   ]
  },
  {
   "cell_type": "code",
   "execution_count": 19,
   "metadata": {},
   "outputs": [
    {
     "name": "stdout",
     "output_type": "stream",
     "text": [
      "True     902\n",
      "TrUe     755\n",
      "true     750\n",
      "True     677\n",
      "False    433\n",
      "falSE    342\n",
      "false    339\n",
      "FALSE    334\n",
      "25         1\n",
      "Name: comment_disabled, dtype: int64\n"
     ]
    }
   ],
   "source": [
    "print(fullraw[\"comment_disabled\"].value_counts())\n",
    "choicebol=[(fullraw[\"comment_disabled\"]==True)|(fullraw[\"comment_disabled\"]==\"TrUe\")|(fullraw[\"comment_disabled\"]==\"True\")|(fullraw[\"comment_disabled\"]==\"true\"), (fullraw[\"comment_disabled\"]==False)|(fullraw[\"comment_disabled\"]==\"false\")|(fullraw[\"comment_disabled\"]==\"falSE\")|(fullraw[\"comment_disabled\"]==\"FALSE\")|(fullraw[\"comment_disabled\"]==25)]\n",
    "condlist=[1, 0]\n",
    "fullraw[\"comment_disabled\"]=np.select(choicebol, condlist)"
   ]
  },
  {
   "cell_type": "markdown",
   "metadata": {},
   "source": [
    "### One-hot encoding"
   ]
  },
  {
   "cell_type": "code",
   "execution_count": 20,
   "metadata": {},
   "outputs": [],
   "source": [
    "fullraw2=pd.get_dummies(fullraw, drop_first=True)"
   ]
  },
  {
   "cell_type": "markdown",
   "metadata": {},
   "source": [
    "### Outlier and Skewness correction \n",
    "\n",
    "**Using LOG TRANSFORMATION**"
   ]
  },
  {
   "cell_type": "code",
   "execution_count": 21,
   "metadata": {},
   "outputs": [
    {
     "name": "stderr",
     "output_type": "stream",
     "text": [
      "C:\\Users\\rupan\\Anaconda3\\lib\\site-packages\\pandas\\core\\series.py:679: RuntimeWarning: divide by zero encountered in log\n",
      "  result = getattr(ufunc, method)(*inputs, **kwargs)\n"
     ]
    },
    {
     "data": {
      "image/png": "[encoded data removed]",
      "text/plain": [
       "<Figure size 1152x288 with 2 Axes>"
      ]
     },
     "metadata": {
      "needs_background": "light"
     },
     "output_type": "display_data"
    }
   ],
   "source": [
    "plt.figure(figsize=(16,4))\n",
    "\n",
    "plt.subplot(1,2,1)\n",
    "plt.hist(fullraw2[\"likes\"])\n",
    "\n",
    "fullraw2[\"likes_log\"]=np.where(fullraw2[\"likes\"]==0,0,np.log(fullraw2[\"likes\"]))\n",
    "plt.subplot(1,2,2)\n",
    "plt.hist(fullraw2[\"likes_log\"])\n",
    "fullraw2.drop([\"likes\"], axis=1, inplace=True)"
   ]
  },
  {
   "cell_type": "code",
   "execution_count": 22,
   "metadata": {},
   "outputs": [
    {
     "data": {
      "image/png": "[encoded data removed]",
      "text/plain": [
       "<Figure size 1152x288 with 2 Axes>"
      ]
     },
     "metadata": {
      "needs_background": "light"
     },
     "output_type": "display_data"
    }
   ],
   "source": [
    "plt.figure(figsize=(16,4))\n",
    "\n",
    "plt.subplot(1,2,1)\n",
    "plt.hist(fullraw2[\"Tag_count\"])\n",
    "fullraw2[\"Tag_count_log\"]=np.where(fullraw2[\"Tag_count\"]==0,0,np.log(fullraw2[\"Tag_count\"]))\n",
    "\n",
    "plt.subplot(1,2,2)\n",
    "plt.hist(fullraw2[\"Tag_count_log\"])\n",
    "\n",
    "fullraw2.drop([\"Tag_count\"], axis=1, inplace=True)"
   ]
  },
  {
   "cell_type": "code",
   "execution_count": 23,
   "metadata": {},
   "outputs": [
    {
     "data": {
      "image/png": "[encoded data removed]",
      "text/plain": [
       "<Figure size 1152x288 with 2 Axes>"
      ]
     },
     "metadata": {
      "needs_background": "light"
     },
     "output_type": "display_data"
    }
   ],
   "source": [
    "plt.figure(figsize=(16,4))\n",
    "\n",
    "plt.subplot(1,2,1)\n",
    "plt.hist(fullraw2[\"Trend_day_count\"])\n",
    "\n",
    "fullraw2[\"Trend_day_count_log\"]=np.where(fullraw2[\"Trend_day_count\"]==0,0,np.log(fullraw2[\"Trend_day_count\"]))\n",
    "\n",
    "plt.subplot(1,2,2)\n",
    "plt.hist(fullraw2[\"Trend_day_count_log\"])\n",
    "\n",
    "fullraw2.drop([\"Trend_day_count\"], axis=1, inplace=True)"
   ]
  },
  {
   "cell_type": "code",
   "execution_count": 24,
   "metadata": {},
   "outputs": [
    {
     "data": {
      "image/png": "[encoded data removed]",
      "text/plain": [
       "<Figure size 1152x288 with 2 Axes>"
      ]
     },
     "metadata": {
      "needs_background": "light"
     },
     "output_type": "display_data"
    }
   ],
   "source": [
    "plt.figure(figsize=(16,4))\n",
    "\n",
    "plt.subplot(1,2,1)\n",
    "plt.hist(fullraw2[\"Trend_tag_count\"])\n",
    "fullraw2[\"Trend_tag_count_log\"]=np.where(fullraw2[\"Trend_tag_count\"]==0,0,np.log(fullraw2[\"Trend_tag_count\"]))\n",
    "\n",
    "plt.subplot(1,2,2)\n",
    "plt.hist(fullraw2[\"Trend_tag_count_log\"])\n",
    "fullraw2.drop([\"Trend_tag_count\"], axis=1, inplace=True)"
   ]
  },
  {
   "cell_type": "code",
   "execution_count": 25,
   "metadata": {},
   "outputs": [
    {
     "data": {
      "image/png": "[encoded data removed]",
      "text/plain": [
       "<Figure size 1152x288 with 2 Axes>"
      ]
     },
     "metadata": {
      "needs_background": "light"
     },
     "output_type": "display_data"
    }
   ],
   "source": [
    "plt.figure(figsize=(16,4))\n",
    "\n",
    "plt.subplot(1,2,1)\n",
    "plt.hist(fullraw2[\"views\"])\n",
    "\n",
    "fullraw2[\"views_log\"]=np.where(fullraw2[\"views\"]==0,0,np.log(fullraw2[\"views\"]))\n",
    "\n",
    "plt.subplot(1,2,2)\n",
    "plt.hist(fullraw2[\"views_log\"])\n",
    "fullraw2.drop([\"views\"], axis=1, inplace=True)"
   ]
  },
  {
   "cell_type": "code",
   "execution_count": 28,
   "metadata": {},
   "outputs": [
    {
     "data": {
      "text/plain": [
       "(array([1266.,  355.,  378.,  400.,  357.,  360.,  357.,  354.,  404.,\n",
       "         302.]),\n",
       " array([    0. ,  1491.6,  2983.2,  4474.8,  5966.4,  7458. ,  8949.6,\n",
       "        10441.2, 11932.8, 13424.4, 14916. ]),\n",
       " <a list of 10 Patch objects>)"
      ]
     },
     "execution_count": 28,
     "metadata": {},
     "output_type": "execute_result"
    },
    {
     "data": {
      "image/png": "[encoded data removed]",
      "text/plain": [
       "<Figure size 720x288 with 1 Axes>"
      ]
     },
     "metadata": {
      "needs_background": "light"
     },
     "output_type": "display_data"
    }
   ],
   "source": [
    "plt.figure(figsize=(10,4))\n",
    "plt.hist(fullraw2[\"dislike\"])"
   ]
  },
  {
   "cell_type": "code",
   "execution_count": 29,
   "metadata": {},
   "outputs": [
    {
     "data": {
      "text/plain": [
       "(array([  61.,  330.,  323.,  361.,  322., 1781.,  302.,  323.,  350.,\n",
       "         380.]),\n",
       " array([1.000000e+01, 2.999670e+04, 5.998340e+04, 8.997010e+04,\n",
       "        1.199568e+05, 1.499435e+05, 1.799302e+05, 2.099169e+05,\n",
       "        2.399036e+05, 2.698903e+05, 2.998770e+05]),\n",
       " <a list of 10 Patch objects>)"
      ]
     },
     "execution_count": 29,
     "metadata": {},
     "output_type": "execute_result"
    },
    {
     "data": {
      "image/png": "[encoded data removed]",
      "text/plain": [
       "<Figure size 720x288 with 1 Axes>"
      ]
     },
     "metadata": {
      "needs_background": "light"
     },
     "output_type": "display_data"
    }
   ],
   "source": [
    "plt.figure(figsize=(10,4))\n",
    "plt.hist(fullraw2[\"comment_count\"])"
   ]
  },
  {
   "cell_type": "markdown",
   "metadata": {},
   "source": [
    "### Train and Test split"
   ]
  },
  {
   "cell_type": "code",
   "execution_count": 31,
   "metadata": {},
   "outputs": [],
   "source": [
    "#train test split\n",
    "Train1=fullraw2[fullraw2[\"Source_Train\"]==1].drop([\"Source_Train\"], axis=1).copy()\n",
    "FinalTest=fullraw2[fullraw2[\"Source_Train\"]==0].drop([\"Source_Train\"], axis=1).copy()"
   ]
  },
  {
   "cell_type": "code",
   "execution_count": 32,
   "metadata": {},
   "outputs": [],
   "source": [
    "features=[x for x in Train1.columns if x!=\"views_log\"]\n",
    "dep=Train1[\"views_log\"]\n",
    "TrainX, TestX, TrainY, TestY=train_test_split(Train1[features], dep, train_size=0.70, random_state=123)"
   ]
  },
  {
   "cell_type": "markdown",
   "metadata": {},
   "source": [
    "### Model building"
   ]
  },
  {
   "cell_type": "markdown",
   "metadata": {},
   "source": [
    "First we will create a baseline model using default parameters and then we will fine tune the model using **Gridsearch**"
   ]
  },
  {
   "cell_type": "code",
   "execution_count": 64,
   "metadata": {},
   "outputs": [],
   "source": [
    "mt=RandomForestRegressor(random_state=4, n_jobs=-2).fit(TrainX, TrainY)\n",
    "Test_pred=mt.predict(TestX)\n",
    "Test_pred=np.exp(Test_pred)"
   ]
  },
  {
   "cell_type": "code",
   "execution_count": 65,
   "metadata": {},
   "outputs": [
    {
     "data": {
      "text/plain": [
       "1469860.9469680197"
      ]
     },
     "execution_count": 65,
     "metadata": {},
     "output_type": "execute_result"
    }
   ],
   "source": [
    "#RMSE for Random Forest\n",
    "RF_RMSE1=np.sqrt(np.mean((TestY-Test_pred)**2))\n",
    "RF_RMSE1"
   ]
  },
  {
   "attachments": {
    "cross-validation-grid-search-model-selection-python-1.png": {
     "image/png": "[encoded data removed]"
    }
   },
   "cell_type": "markdown",
   "metadata": {},
   "source": [
    "### GridSearchCV\n",
    "\n",
    "Grid search with cross validation is the process of performing hyper parameter tuning in order to determine the optimal values for a given model. \n",
    "\n",
    "![cross-validation-grid-search-model-selection-python-1.png](attachment:cross-validation-grid-search-model-selection-python-1.png)\n",
    "\n"
   ]
  },
  {
   "cell_type": "code",
   "execution_count": 53,
   "metadata": {},
   "outputs": [
    {
     "name": "stdout",
     "output_type": "stream",
     "text": [
      "Fitting 3 folds for each of 784 candidates, totalling 2352 fits\n"
     ]
    },
    {
     "name": "stderr",
     "output_type": "stream",
     "text": [
      "[Parallel(n_jobs=-2)]: Using backend LokyBackend with 3 concurrent workers.\n",
      "[Parallel(n_jobs=-2)]: Done   2 tasks      | elapsed:   10.6s\n",
      "[Parallel(n_jobs=-2)]: Done  26 tasks      | elapsed:  2.1min\n",
      "[Parallel(n_jobs=-2)]: Done  66 tasks      | elapsed:  5.3min\n",
      "[Parallel(n_jobs=-2)]: Done 122 tasks      | elapsed:  8.9min\n",
      "[Parallel(n_jobs=-2)]: Done 194 tasks      | elapsed: 13.8min\n",
      "[Parallel(n_jobs=-2)]: Done 282 tasks      | elapsed: 19.4min\n",
      "[Parallel(n_jobs=-2)]: Done 386 tasks      | elapsed: 26.3min\n",
      "[Parallel(n_jobs=-2)]: Done 506 tasks      | elapsed: 34.6min\n",
      "[Parallel(n_jobs=-2)]: Done 642 tasks      | elapsed: 43.4min\n",
      "[Parallel(n_jobs=-2)]: Done 794 tasks      | elapsed: 54.1min\n",
      "[Parallel(n_jobs=-2)]: Done 962 tasks      | elapsed: 65.1min\n",
      "[Parallel(n_jobs=-2)]: Done 1146 tasks      | elapsed: 76.1min\n",
      "[Parallel(n_jobs=-2)]: Done 1346 tasks      | elapsed: 79.4min\n",
      "[Parallel(n_jobs=-2)]: Done 1562 tasks      | elapsed: 80.4min\n",
      "[Parallel(n_jobs=-2)]: Done 1794 tasks      | elapsed: 81.5min\n",
      "[Parallel(n_jobs=-2)]: Done 2042 tasks      | elapsed: 82.5min\n",
      "[Parallel(n_jobs=-2)]: Done 2306 tasks      | elapsed: 83.6min\n",
      "[Parallel(n_jobs=-2)]: Done 2352 out of 2352 | elapsed: 83.8min finished\n"
     ]
    }
   ],
   "source": [
    "parameters={'max_features': ['auto', 'sqrt'], 'min_samples_leaf': range(2,10,1), 'min_samples_split': range(2,16,2), 'n_estimators': range(250,600,50)}\n",
    "Grid=GridSearchCV(estimator=RandomForestRegressor(random_state=123), param_grid=parameters,scoring=\"neg_mean_absolute_error\", cv=3, n_jobs=-2, verbose=7, pre_dispatch=\"2*n_jobs\").fit(TrainX, TrainY)\n",
    "Griddf=pd.DataFrame.from_dict(Grid.cv_results_)\n",
    "Griddf.to_csv(\"Griddf.csv\", index=False)"
   ]
  },
  {
   "cell_type": "code",
   "execution_count": 62,
   "metadata": {},
   "outputs": [
    {
     "data": {
      "text/plain": [
       "{'max_features': 'auto',\n",
       " 'min_samples_leaf': 6,\n",
       " 'min_samples_split': 2,\n",
       " 'n_estimators': 450}"
      ]
     },
     "execution_count": 62,
     "metadata": {},
     "output_type": "execute_result"
    }
   ],
   "source": [
    "Bestparm=Grid.best_params_\n",
    "Bestparm"
   ]
  },
  {
   "cell_type": "markdown",
   "metadata": {},
   "source": [
    "#### Rebuidling Random Forest based on the parameters found by hyperparameters search"
   ]
  },
  {
   "cell_type": "code",
   "execution_count": 67,
   "metadata": {},
   "outputs": [
    {
     "data": {
      "text/plain": [
       "1469860.9469680204"
      ]
     },
     "execution_count": 67,
     "metadata": {},
     "output_type": "execute_result"
    }
   ],
   "source": [
    "mtR=RandomForestRegressor(random_state=4, max_features='auto', min_samples_leaf=6, min_samples_split=2, n_estimators=450, n_jobs=-2).fit(TrainX, TrainY)\n",
    "Test_pred=mt.predict(TestX)\n",
    "Test_pred=np.exp(Test_pred)\n",
    "RF_RMSE2=np.sqrt(np.mean((TestY-Test_pred)**2))\n",
    "RF_RMSE2"
   ]
  },
  {
   "cell_type": "markdown",
   "metadata": {},
   "source": [
    "### GridSeach CV for KNearest Neighbour \n",
    "\n",
    "#### for Stacking Regressor"
   ]
  },
  {
   "cell_type": "code",
   "execution_count": 71,
   "metadata": {},
   "outputs": [
    {
     "name": "stdout",
     "output_type": "stream",
     "text": [
      "Fitting 5 folds for each of 200 candidates, totalling 1000 fits\n"
     ]
    },
    {
     "name": "stderr",
     "output_type": "stream",
     "text": [
      "[Parallel(n_jobs=-2)]: Using backend LokyBackend with 3 concurrent workers.\n",
      "[Parallel(n_jobs=-2)]: Done   2 tasks      | elapsed:    5.4s\n",
      "[Parallel(n_jobs=-2)]: Done  26 tasks      | elapsed:   16.6s\n",
      "[Parallel(n_jobs=-2)]: Done  66 tasks      | elapsed:   35.2s\n",
      "[Parallel(n_jobs=-2)]: Done 122 tasks      | elapsed:  1.0min\n",
      "[Parallel(n_jobs=-2)]: Done 194 tasks      | elapsed:  1.5min\n",
      "[Parallel(n_jobs=-2)]: Done 282 tasks      | elapsed:  2.1min\n",
      "[Parallel(n_jobs=-2)]: Done 386 tasks      | elapsed:  2.8min\n",
      "[Parallel(n_jobs=-2)]: Done 506 tasks      | elapsed:  3.5min\n",
      "[Parallel(n_jobs=-2)]: Done 642 tasks      | elapsed:  4.3min\n",
      "[Parallel(n_jobs=-2)]: Done 794 tasks      | elapsed:  5.2min\n",
      "[Parallel(n_jobs=-2)]: Done 962 tasks      | elapsed:  6.2min\n",
      "[Parallel(n_jobs=-2)]: Done 1000 out of 1000 | elapsed:  6.4min finished\n"
     ]
    }
   ],
   "source": [
    "parameters={'n_neighbors':[1,3,5,7,9], 'p':[1,2], 'weights':['uniform', 'distance'], 'leaf_size':range(5,55,5)}\n",
    "Grid=GridSearchCV(estimator=KNeighborsRegressor(algorithm='auto', n_jobs=-2), param_grid=parameters,scoring=\"neg_mean_absolute_error\", cv=5,n_jobs=-2, verbose=7, pre_dispatch=6).fit(TrainX, TrainY)\n",
    "Griddf=pd.DataFrame.from_dict(Grid.cv_results_)\n",
    "Griddf.to_csv(\"Griddf.csv\", index=False)"
   ]
  },
  {
   "cell_type": "code",
   "execution_count": 72,
   "metadata": {},
   "outputs": [
    {
     "data": {
      "text/plain": [
       "{'leaf_size': 5, 'n_neighbors': 7, 'p': 1, 'weights': 'uniform'}"
      ]
     },
     "execution_count": 72,
     "metadata": {},
     "output_type": "execute_result"
    }
   ],
   "source": [
    "Bestparm=Grid.best_params_\n",
    "Bestparm"
   ]
  },
  {
   "cell_type": "markdown",
   "metadata": {},
   "source": [
    "### Stacking Regressor\n",
    "\n",
    "**KNN, LR, Random Forest, and RidgeCV**\n",
    "\n",
    "Ridge CV to add a **regularised model**, \n",
    "KNN for clustered nearest grouping\n",
    "LR for bias"
   ]
  },
  {
   "cell_type": "code",
   "execution_count": 73,
   "metadata": {},
   "outputs": [],
   "source": [
    "estimators = [('lr',LinearRegression()), \n",
    "              ('RF', RandomForestRegressor(random_state=4, max_features='auto', min_samples_leaf=6, min_samples_split=2, n_estimators=450)), \n",
    "              ('KNN', KNeighborsRegressor(n_neighbors=5, leaf_size=5, p=1, weights='uniform')), \n",
    "              ('rv', RidgeCV())]"
   ]
  },
  {
   "cell_type": "code",
   "execution_count": 74,
   "metadata": {},
   "outputs": [
    {
     "data": {
      "text/plain": [
       "497335.27826285176"
      ]
     },
     "execution_count": 74,
     "metadata": {},
     "output_type": "execute_result"
    }
   ],
   "source": [
    "ms=StackingRegressor(estimators=estimators, final_estimator=KNeighborsRegressor(n_neighbors=7, weights='distance')).fit(TrainX, TrainY)\n",
    "Test_predS=ms.predict(TestX)\n",
    "Test_predS=np.exp(Test_predS)\n",
    "SR_RMSE=np.sqrt(np.mean((TestY-Test_predS)**2))\n",
    "SR_RMSE"
   ]
  },
  {
   "cell_type": "code",
   "execution_count": 76,
   "metadata": {},
   "outputs": [
    {
     "name": "stdout",
     "output_type": "stream",
     "text": [
      "Improvement: 972525.6687051686\n"
     ]
    }
   ],
   "source": [
    "print(\"Improvement:\",RF_RMSE2-SR_RMSE)"
   ]
  }
 ],
 "metadata": {
  "kernelspec": {
   "display_name": "Python 3",
   "language": "python",
   "name": "python3"
  },
  "language_info": {
   "codemirror_mode": {
    "name": "ipython",
    "version": 3
   },
   "file_extension": ".py",
   "mimetype": "text/x-python",
   "name": "python",
   "nbconvert_exporter": "python",
   "pygments_lexer": "ipython3",
   "version": "3.7.4"
  }
 },
 "nbformat": 4,
 "nbformat_minor": 4
}
